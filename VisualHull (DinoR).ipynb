{
  "nbformat": 4,
  "nbformat_minor": 0,
  "metadata": {
    "colab": {
      "name": "VisualHull.ipynb",
      "provenance": []
    },
    "kernelspec": {
      "name": "python3",
      "display_name": "Python 3"
    }
  },
  "cells": [
    {
      "cell_type": "code",
      "metadata": {
        "id": "icLgO5UMeWSy",
        "outputId": "88890988-9e3e-494e-eae9-8810e94d9844",
        "colab": {
          "base_uri": "https://localhost:8080/"
        }
      },
      "source": [
        "!wget https://vision.middlebury.edu/mview/data/data/dinoSparseRing.zip --no-check-certificate"
      ],
      "execution_count": 130,
      "outputs": [
        {
          "output_type": "stream",
          "text": [
            "--2020-11-11 18:26:26--  https://vision.middlebury.edu/mview/data/data/dinoSparseRing.zip\n",
            "Resolving vision.middlebury.edu (vision.middlebury.edu)... 140.233.20.14\n",
            "Connecting to vision.middlebury.edu (vision.middlebury.edu)|140.233.20.14|:443... connected.\n",
            "WARNING: cannot verify vision.middlebury.edu's certificate, issued by ‘CN=InCommon RSA Server CA,OU=InCommon,O=Internet2,L=Ann Arbor,ST=MI,C=US’:\n",
            "  Unable to locally verify the issuer's authority.\n",
            "HTTP request sent, awaiting response... 200 OK\n",
            "Length: 3812923 (3.6M) [application/zip]\n",
            "Saving to: ‘dinoSparseRing.zip’\n",
            "\n",
            "dinoSparseRing.zip  100%[===================>]   3.64M   603KB/s    in 10s     \n",
            "\n",
            "2020-11-11 18:26:38 (361 KB/s) - ‘dinoSparseRing.zip’ saved [3812923/3812923]\n",
            "\n"
          ],
          "name": "stdout"
        }
      ]
    },
    {
      "cell_type": "code",
      "metadata": {
        "id": "IMA4NStHAmoh"
      },
      "source": [
        "import cv2\n",
        "import numpy as np\n",
        "from itertools import product"
      ],
      "execution_count": 1,
      "outputs": []
    },
    {
      "cell_type": "code",
      "metadata": {
        "id": "97sf3O0pO7Bj"
      },
      "source": [
        "data_dir = \"dinoRing/\"\n",
        "file_base = \"dinoR\"\n",
        "T = 19"
      ],
      "execution_count": 2,
      "outputs": []
    },
    {
      "cell_type": "code",
      "metadata": {
        "id": "o5vQvzHLBnXl",
        "outputId": "8904e2a0-7c48-4e53-beef-5d0876f7cec3",
        "colab": {
          "base_uri": "https://localhost:8080/"
        }
      },
      "source": [
        "!unzip dinoSparseRing.zip"
      ],
      "execution_count": 149,
      "outputs": [
        {
          "output_type": "stream",
          "text": [
            "Archive:  dinoSparseRing.zip\n",
            "replace dinoSparseRing/dinoSR_ang.txt? [y]es, [n]o, [A]ll, [N]one, [r]ename: N\n"
          ],
          "name": "stdout"
        }
      ]
    },
    {
      "cell_type": "markdown",
      "metadata": {
        "id": "cWA404rBUSLs"
      },
      "source": [
        "# Reading Images and Camera Parameters"
      ]
    },
    {
      "cell_type": "code",
      "metadata": {
        "id": "fcJut9bHPA62"
      },
      "source": [
        "# Reading the camera parameters from 'dinoSR_par.txt'\n",
        "with open(data_dir + \"/\" + file_base + \"_par.txt\", 'r') as f:\n",
        "  lines = f.readlines() \n",
        "\n",
        "  M = []\n",
        "  for l in lines[1:]: \n",
        "    tmp = np.array(l.strip().split(\" \")[1:]).astype(np.float32)\n",
        "    K = tmp[0:9].reshape((3, 3))\n",
        "    R = tmp[9:18].reshape((3, 3))\n",
        "    t = tmp[18:].reshape((3, 1))\n",
        "    M.append(np.matmul(K, np.concatenate([R, t], axis=1)))\n",
        "\n",
        "  N = len(lines) - 1"
      ],
      "execution_count": 134,
      "outputs": []
    },
    {
      "cell_type": "code",
      "metadata": {
        "id": "CvcUb-SFAK18",
        "outputId": "485141b1-1d26-4a8c-c68f-9538530f6523",
        "colab": {
          "base_uri": "https://localhost:8080/"
        }
      },
      "source": [
        "# Reading images\n",
        "imgs = []\n",
        "kernel = np.ones((3,3), np.uint8) \n",
        "for i in range(N):\n",
        "  im = cv2.imread(data_dir + \"/\" + file_base + f'{i + 1:04}' + \".png\", 0) / 255\n",
        "  im = cv2.erode(im, kernel, iterations=1) \n",
        "  im = cv2.dilate(im, kernel, iterations=1) \n",
        "  _, im = cv2.threshold(im, 0.1, 1, cv2.THRESH_BINARY)\n",
        "  print(im)\n",
        "  imgs.append(np.array(im))\n",
        "imgs = np.array(imgs)"
      ],
      "execution_count": 137,
      "outputs": [
        {
          "output_type": "stream",
          "text": [
            "[[0. 0. 0. ... 0. 0. 0.]\n",
            " [0. 0. 0. ... 0. 0. 0.]\n",
            " [0. 0. 0. ... 0. 0. 0.]\n",
            " ...\n",
            " [0. 0. 0. ... 0. 0. 0.]\n",
            " [0. 0. 0. ... 0. 0. 0.]\n",
            " [0. 0. 0. ... 0. 0. 0.]]\n",
            "[[0. 0. 0. ... 0. 0. 0.]\n",
            " [0. 0. 0. ... 0. 0. 0.]\n",
            " [0. 0. 0. ... 0. 0. 0.]\n",
            " ...\n",
            " [0. 0. 0. ... 0. 0. 0.]\n",
            " [0. 0. 0. ... 0. 0. 0.]\n",
            " [0. 0. 0. ... 0. 0. 0.]]\n",
            "[[0. 0. 0. ... 0. 0. 0.]\n",
            " [0. 0. 0. ... 0. 0. 0.]\n",
            " [0. 0. 0. ... 0. 0. 0.]\n",
            " ...\n",
            " [0. 0. 0. ... 0. 0. 0.]\n",
            " [0. 0. 0. ... 0. 0. 0.]\n",
            " [0. 0. 0. ... 0. 0. 0.]]\n",
            "[[0. 0. 0. ... 0. 0. 0.]\n",
            " [0. 0. 0. ... 0. 0. 0.]\n",
            " [0. 0. 0. ... 0. 0. 0.]\n",
            " ...\n",
            " [0. 0. 0. ... 0. 0. 0.]\n",
            " [0. 0. 0. ... 0. 0. 0.]\n",
            " [0. 0. 0. ... 0. 0. 0.]]\n",
            "[[0. 0. 0. ... 0. 0. 0.]\n",
            " [0. 0. 0. ... 0. 0. 0.]\n",
            " [0. 0. 0. ... 0. 0. 0.]\n",
            " ...\n",
            " [0. 0. 0. ... 0. 0. 0.]\n",
            " [0. 0. 0. ... 0. 0. 0.]\n",
            " [0. 0. 0. ... 0. 0. 0.]]\n",
            "[[0. 0. 0. ... 0. 0. 0.]\n",
            " [0. 0. 0. ... 0. 0. 0.]\n",
            " [0. 0. 0. ... 0. 0. 0.]\n",
            " ...\n",
            " [0. 0. 0. ... 0. 0. 0.]\n",
            " [0. 0. 0. ... 0. 0. 0.]\n",
            " [0. 0. 0. ... 0. 0. 0.]]\n",
            "[[0. 0. 0. ... 0. 0. 0.]\n",
            " [0. 0. 0. ... 0. 0. 0.]\n",
            " [0. 0. 0. ... 0. 0. 0.]\n",
            " ...\n",
            " [0. 0. 0. ... 0. 0. 0.]\n",
            " [0. 0. 0. ... 0. 0. 0.]\n",
            " [0. 0. 0. ... 0. 0. 0.]]\n",
            "[[0. 0. 0. ... 0. 0. 0.]\n",
            " [0. 0. 0. ... 0. 0. 0.]\n",
            " [0. 0. 0. ... 0. 0. 0.]\n",
            " ...\n",
            " [0. 0. 0. ... 0. 0. 0.]\n",
            " [0. 0. 0. ... 0. 0. 0.]\n",
            " [0. 0. 0. ... 0. 0. 0.]]\n",
            "[[0. 0. 0. ... 0. 0. 0.]\n",
            " [0. 0. 0. ... 0. 0. 0.]\n",
            " [0. 0. 0. ... 0. 0. 0.]\n",
            " ...\n",
            " [0. 0. 0. ... 0. 0. 0.]\n",
            " [0. 0. 0. ... 0. 0. 0.]\n",
            " [0. 0. 0. ... 0. 0. 0.]]\n",
            "[[0. 0. 0. ... 0. 0. 0.]\n",
            " [0. 0. 0. ... 0. 0. 0.]\n",
            " [0. 0. 0. ... 0. 0. 0.]\n",
            " ...\n",
            " [0. 0. 0. ... 0. 0. 0.]\n",
            " [0. 0. 0. ... 0. 0. 0.]\n",
            " [0. 0. 0. ... 0. 0. 0.]]\n",
            "[[0. 0. 0. ... 0. 0. 0.]\n",
            " [0. 0. 0. ... 0. 0. 0.]\n",
            " [0. 0. 0. ... 0. 0. 0.]\n",
            " ...\n",
            " [0. 0. 0. ... 0. 0. 0.]\n",
            " [0. 0. 0. ... 0. 0. 0.]\n",
            " [0. 0. 0. ... 0. 0. 0.]]\n",
            "[[0. 0. 0. ... 0. 0. 0.]\n",
            " [0. 0. 0. ... 0. 0. 0.]\n",
            " [0. 0. 0. ... 0. 0. 0.]\n",
            " ...\n",
            " [0. 0. 0. ... 0. 0. 0.]\n",
            " [0. 0. 0. ... 0. 0. 0.]\n",
            " [0. 0. 0. ... 0. 0. 0.]]\n",
            "[[0. 0. 0. ... 0. 0. 0.]\n",
            " [0. 0. 0. ... 0. 0. 0.]\n",
            " [0. 0. 0. ... 0. 0. 0.]\n",
            " ...\n",
            " [0. 0. 0. ... 0. 0. 0.]\n",
            " [0. 0. 0. ... 0. 0. 0.]\n",
            " [0. 0. 0. ... 0. 0. 0.]]\n",
            "[[0. 0. 0. ... 0. 0. 0.]\n",
            " [0. 0. 0. ... 0. 0. 0.]\n",
            " [0. 0. 0. ... 0. 0. 0.]\n",
            " ...\n",
            " [0. 0. 0. ... 0. 0. 0.]\n",
            " [0. 0. 0. ... 0. 0. 0.]\n",
            " [0. 0. 0. ... 0. 0. 0.]]\n",
            "[[0. 0. 0. ... 0. 0. 0.]\n",
            " [0. 0. 0. ... 0. 0. 0.]\n",
            " [0. 0. 0. ... 0. 0. 0.]\n",
            " ...\n",
            " [0. 0. 0. ... 0. 0. 0.]\n",
            " [0. 0. 0. ... 0. 0. 0.]\n",
            " [0. 0. 0. ... 0. 0. 0.]]\n",
            "[[0. 0. 0. ... 0. 0. 0.]\n",
            " [0. 0. 0. ... 0. 0. 0.]\n",
            " [0. 0. 0. ... 0. 0. 0.]\n",
            " ...\n",
            " [0. 0. 0. ... 0. 0. 0.]\n",
            " [0. 0. 0. ... 0. 0. 0.]\n",
            " [0. 0. 0. ... 0. 0. 0.]]\n",
            "[[0. 0. 0. ... 0. 0. 0.]\n",
            " [0. 0. 0. ... 0. 0. 0.]\n",
            " [0. 0. 0. ... 0. 0. 0.]\n",
            " ...\n",
            " [0. 0. 0. ... 0. 0. 0.]\n",
            " [0. 0. 0. ... 0. 0. 0.]\n",
            " [0. 0. 0. ... 0. 0. 0.]]\n",
            "[[0. 0. 0. ... 0. 0. 0.]\n",
            " [0. 0. 0. ... 0. 0. 0.]\n",
            " [0. 0. 0. ... 0. 0. 0.]\n",
            " ...\n",
            " [0. 0. 0. ... 0. 0. 0.]\n",
            " [0. 0. 0. ... 0. 0. 0.]\n",
            " [0. 0. 0. ... 0. 0. 0.]]\n",
            "[[0. 0. 0. ... 0. 0. 0.]\n",
            " [0. 0. 0. ... 0. 0. 0.]\n",
            " [0. 0. 0. ... 0. 0. 0.]\n",
            " ...\n",
            " [0. 0. 0. ... 0. 0. 0.]\n",
            " [0. 0. 0. ... 0. 0. 0.]\n",
            " [0. 0. 0. ... 0. 0. 0.]]\n",
            "[[0. 0. 0. ... 0. 0. 0.]\n",
            " [0. 0. 0. ... 0. 0. 0.]\n",
            " [0. 0. 0. ... 0. 0. 0.]\n",
            " ...\n",
            " [0. 0. 0. ... 0. 0. 0.]\n",
            " [0. 0. 0. ... 0. 0. 0.]\n",
            " [0. 0. 0. ... 0. 0. 0.]]\n",
            "[[0. 0. 0. ... 0. 0. 0.]\n",
            " [0. 0. 0. ... 0. 0. 0.]\n",
            " [0. 0. 0. ... 0. 0. 0.]\n",
            " ...\n",
            " [0. 0. 0. ... 0. 0. 0.]\n",
            " [0. 0. 0. ... 0. 0. 0.]\n",
            " [0. 0. 0. ... 0. 0. 0.]]\n",
            "[[0. 0. 0. ... 0. 0. 0.]\n",
            " [0. 0. 0. ... 0. 0. 0.]\n",
            " [0. 0. 0. ... 0. 0. 0.]\n",
            " ...\n",
            " [0. 0. 0. ... 0. 0. 0.]\n",
            " [0. 0. 0. ... 0. 0. 0.]\n",
            " [0. 0. 0. ... 0. 0. 0.]]\n",
            "[[0. 0. 0. ... 0. 0. 0.]\n",
            " [0. 0. 0. ... 0. 0. 0.]\n",
            " [0. 0. 0. ... 0. 0. 0.]\n",
            " ...\n",
            " [0. 0. 0. ... 0. 0. 0.]\n",
            " [0. 0. 0. ... 0. 0. 0.]\n",
            " [0. 0. 0. ... 0. 0. 0.]]\n",
            "[[0. 0. 0. ... 0. 0. 0.]\n",
            " [0. 0. 0. ... 0. 0. 0.]\n",
            " [0. 0. 0. ... 0. 0. 0.]\n",
            " ...\n",
            " [0. 0. 0. ... 0. 0. 0.]\n",
            " [0. 0. 0. ... 0. 0. 0.]\n",
            " [0. 0. 0. ... 0. 0. 0.]]\n",
            "[[0. 0. 0. ... 0. 0. 0.]\n",
            " [0. 0. 0. ... 0. 0. 0.]\n",
            " [0. 0. 0. ... 0. 0. 0.]\n",
            " ...\n",
            " [0. 0. 0. ... 0. 0. 0.]\n",
            " [0. 0. 0. ... 0. 0. 0.]\n",
            " [0. 0. 0. ... 0. 0. 0.]]\n",
            "[[0. 0. 0. ... 0. 0. 0.]\n",
            " [0. 0. 0. ... 0. 0. 0.]\n",
            " [0. 0. 0. ... 0. 0. 0.]\n",
            " ...\n",
            " [0. 0. 0. ... 0. 0. 0.]\n",
            " [0. 0. 0. ... 0. 0. 0.]\n",
            " [0. 0. 0. ... 0. 0. 0.]]\n",
            "[[0. 0. 0. ... 0. 0. 0.]\n",
            " [0. 0. 0. ... 0. 0. 0.]\n",
            " [0. 0. 0. ... 0. 0. 0.]\n",
            " ...\n",
            " [0. 0. 0. ... 0. 0. 0.]\n",
            " [0. 0. 0. ... 0. 0. 0.]\n",
            " [0. 0. 0. ... 0. 0. 0.]]\n",
            "[[0. 0. 0. ... 0. 0. 0.]\n",
            " [0. 0. 0. ... 0. 0. 0.]\n",
            " [0. 0. 0. ... 0. 0. 0.]\n",
            " ...\n",
            " [0. 0. 0. ... 0. 0. 0.]\n",
            " [0. 0. 0. ... 0. 0. 0.]\n",
            " [0. 0. 0. ... 0. 0. 0.]]\n",
            "[[0. 0. 0. ... 0. 0. 0.]\n",
            " [0. 0. 0. ... 0. 0. 0.]\n",
            " [0. 0. 0. ... 0. 0. 0.]\n",
            " ...\n",
            " [0. 0. 0. ... 0. 0. 0.]\n",
            " [0. 0. 0. ... 0. 0. 0.]\n",
            " [0. 0. 0. ... 0. 0. 0.]]\n",
            "[[0. 0. 0. ... 0. 0. 0.]\n",
            " [0. 0. 0. ... 0. 0. 0.]\n",
            " [0. 0. 0. ... 0. 0. 0.]\n",
            " ...\n",
            " [0. 0. 0. ... 0. 0. 0.]\n",
            " [0. 0. 0. ... 0. 0. 0.]\n",
            " [0. 0. 0. ... 0. 0. 0.]]\n",
            "[[0. 0. 0. ... 0. 0. 0.]\n",
            " [0. 0. 0. ... 0. 0. 0.]\n",
            " [0. 0. 0. ... 0. 0. 0.]\n",
            " ...\n",
            " [0. 0. 0. ... 0. 0. 0.]\n",
            " [0. 0. 0. ... 0. 0. 0.]\n",
            " [0. 0. 0. ... 0. 0. 0.]]\n",
            "[[0. 0. 0. ... 0. 0. 0.]\n",
            " [0. 0. 0. ... 0. 0. 0.]\n",
            " [0. 0. 0. ... 0. 0. 0.]\n",
            " ...\n",
            " [0. 0. 0. ... 0. 0. 0.]\n",
            " [0. 0. 0. ... 0. 0. 0.]\n",
            " [0. 0. 0. ... 0. 0. 0.]]\n",
            "[[0. 0. 0. ... 0. 0. 0.]\n",
            " [0. 0. 0. ... 0. 0. 0.]\n",
            " [0. 0. 0. ... 0. 0. 0.]\n",
            " ...\n",
            " [0. 0. 0. ... 0. 0. 0.]\n",
            " [0. 0. 0. ... 0. 0. 0.]\n",
            " [0. 0. 0. ... 0. 0. 0.]]\n",
            "[[0. 0. 0. ... 0. 0. 0.]\n",
            " [0. 0. 0. ... 0. 0. 0.]\n",
            " [0. 0. 0. ... 0. 0. 0.]\n",
            " ...\n",
            " [0. 0. 0. ... 0. 0. 0.]\n",
            " [0. 0. 0. ... 0. 0. 0.]\n",
            " [0. 0. 0. ... 0. 0. 0.]]\n",
            "[[0. 0. 0. ... 0. 0. 0.]\n",
            " [0. 0. 0. ... 0. 0. 0.]\n",
            " [0. 0. 0. ... 0. 0. 0.]\n",
            " ...\n",
            " [0. 0. 0. ... 0. 0. 0.]\n",
            " [0. 0. 0. ... 0. 0. 0.]\n",
            " [0. 0. 0. ... 0. 0. 0.]]\n",
            "[[0. 0. 0. ... 0. 0. 0.]\n",
            " [0. 0. 0. ... 0. 0. 0.]\n",
            " [0. 0. 0. ... 0. 0. 0.]\n",
            " ...\n",
            " [0. 0. 0. ... 0. 0. 0.]\n",
            " [0. 0. 0. ... 0. 0. 0.]\n",
            " [0. 0. 0. ... 0. 0. 0.]]\n",
            "[[0. 0. 0. ... 0. 0. 0.]\n",
            " [0. 0. 0. ... 0. 0. 0.]\n",
            " [0. 0. 0. ... 0. 0. 0.]\n",
            " ...\n",
            " [0. 0. 0. ... 0. 0. 0.]\n",
            " [0. 0. 0. ... 0. 0. 0.]\n",
            " [0. 0. 0. ... 0. 0. 0.]]\n",
            "[[0. 0. 0. ... 0. 0. 0.]\n",
            " [0. 0. 0. ... 0. 0. 0.]\n",
            " [0. 0. 0. ... 0. 0. 0.]\n",
            " ...\n",
            " [0. 0. 0. ... 0. 0. 0.]\n",
            " [0. 0. 0. ... 0. 0. 0.]\n",
            " [0. 0. 0. ... 0. 0. 0.]]\n",
            "[[0. 0. 0. ... 0. 0. 0.]\n",
            " [0. 0. 0. ... 0. 0. 0.]\n",
            " [0. 0. 0. ... 0. 0. 0.]\n",
            " ...\n",
            " [0. 0. 0. ... 0. 0. 0.]\n",
            " [0. 0. 0. ... 0. 0. 0.]\n",
            " [0. 0. 0. ... 0. 0. 0.]]\n",
            "[[0. 0. 0. ... 0. 0. 0.]\n",
            " [0. 0. 0. ... 0. 0. 0.]\n",
            " [0. 0. 0. ... 0. 0. 0.]\n",
            " ...\n",
            " [0. 0. 0. ... 0. 0. 0.]\n",
            " [0. 0. 0. ... 0. 0. 0.]\n",
            " [0. 0. 0. ... 0. 0. 0.]]\n",
            "[[0. 0. 0. ... 0. 0. 0.]\n",
            " [0. 0. 0. ... 0. 0. 0.]\n",
            " [0. 0. 0. ... 0. 0. 0.]\n",
            " ...\n",
            " [0. 0. 0. ... 0. 0. 0.]\n",
            " [0. 0. 0. ... 0. 0. 0.]\n",
            " [0. 0. 0. ... 0. 0. 0.]]\n",
            "[[0. 0. 0. ... 0. 0. 0.]\n",
            " [0. 0. 0. ... 0. 0. 0.]\n",
            " [0. 0. 0. ... 0. 0. 0.]\n",
            " ...\n",
            " [0. 0. 0. ... 0. 0. 0.]\n",
            " [0. 0. 0. ... 0. 0. 0.]\n",
            " [0. 0. 0. ... 0. 0. 0.]]\n",
            "[[0. 0. 0. ... 0. 0. 0.]\n",
            " [0. 0. 0. ... 0. 0. 0.]\n",
            " [0. 0. 0. ... 0. 0. 0.]\n",
            " ...\n",
            " [0. 0. 0. ... 0. 0. 0.]\n",
            " [0. 0. 0. ... 0. 0. 0.]\n",
            " [0. 0. 0. ... 0. 0. 0.]]\n",
            "[[0. 0. 0. ... 0. 0. 0.]\n",
            " [0. 0. 0. ... 0. 0. 0.]\n",
            " [0. 0. 0. ... 0. 0. 0.]\n",
            " ...\n",
            " [0. 0. 0. ... 0. 0. 0.]\n",
            " [0. 0. 0. ... 0. 0. 0.]\n",
            " [0. 0. 0. ... 0. 0. 0.]]\n",
            "[[0. 0. 0. ... 0. 0. 0.]\n",
            " [0. 0. 0. ... 0. 0. 0.]\n",
            " [0. 0. 0. ... 0. 0. 0.]\n",
            " ...\n",
            " [0. 0. 0. ... 0. 0. 0.]\n",
            " [0. 0. 0. ... 0. 0. 0.]\n",
            " [0. 0. 0. ... 0. 0. 0.]]\n",
            "[[0. 0. 0. ... 0. 0. 0.]\n",
            " [0. 0. 0. ... 0. 0. 0.]\n",
            " [0. 0. 0. ... 0. 0. 0.]\n",
            " ...\n",
            " [0. 0. 0. ... 0. 0. 0.]\n",
            " [0. 0. 0. ... 0. 0. 0.]\n",
            " [0. 0. 0. ... 0. 0. 0.]]\n",
            "[[0. 0. 0. ... 0. 0. 0.]\n",
            " [0. 0. 0. ... 0. 0. 0.]\n",
            " [0. 0. 0. ... 0. 0. 0.]\n",
            " ...\n",
            " [0. 0. 0. ... 0. 0. 0.]\n",
            " [0. 0. 0. ... 0. 0. 0.]\n",
            " [0. 0. 0. ... 0. 0. 0.]]\n",
            "[[0. 0. 0. ... 0. 0. 0.]\n",
            " [0. 0. 0. ... 0. 0. 0.]\n",
            " [0. 0. 0. ... 0. 0. 0.]\n",
            " ...\n",
            " [0. 0. 0. ... 0. 0. 0.]\n",
            " [0. 0. 0. ... 0. 0. 0.]\n",
            " [0. 0. 0. ... 0. 0. 0.]]\n"
          ],
          "name": "stdout"
        }
      ]
    },
    {
      "cell_type": "code",
      "metadata": {
        "id": "AFneaF8d3o9x",
        "outputId": "4bbe7a8d-915c-4f06-8227-34494e3f68ca",
        "colab": {
          "base_uri": "https://localhost:8080/",
          "height": 538
        }
      },
      "source": [
        "import matplotlib.pyplot as plt\n",
        "\n",
        "plt.figure()\n",
        "plt.imshow(imgs[0])\n",
        "plt.figure()\n",
        "plt.imshow(imgs[10])"
      ],
      "execution_count": 138,
      "outputs": [
        {
          "output_type": "execute_result",
          "data": {
            "text/plain": [
              "<matplotlib.image.AxesImage at 0x7f396492a978>"
            ]
          },
          "metadata": {
            "tags": []
          },
          "execution_count": 138
        },
        {
          "output_type": "display_data",
          "data": {
            "image/png": "[encoded data removed]",
            "text/plain": [
              "<Figure size 432x288 with 1 Axes>"
            ]
          },
          "metadata": {
            "tags": [],
            "needs_background": "light"
          }
        },
        {
          "output_type": "display_data",
          "data": {
            "image/png": "[encoded data removed]",
            "text/plain": [
              "<Figure size 432x288 with 1 Axes>"
            ]
          },
          "metadata": {
            "tags": [],
            "needs_background": "light"
          }
        }
      ]
    },
    {
      "cell_type": "code",
      "metadata": {
        "id": "WtZYjyiKCayi"
      },
      "source": [
        "# Thresholding images for masking\n",
        "silhouettes = []\n",
        "for im in imgs:\n",
        "  silhouettes.append(im > 0)\n",
        "silhouettes = np.array(silhouettes).transpose(1, 2, 0)"
      ],
      "execution_count": 139,
      "outputs": []
    },
    {
      "cell_type": "code",
      "metadata": {
        "id": "0ECd2PS65wPf",
        "outputId": "3047b18b-5df2-425e-8093-73476163a400",
        "colab": {
          "base_uri": "https://localhost:8080/",
          "height": 538
        }
      },
      "source": [
        "import matplotlib.pyplot as plt\n",
        "\n",
        "plt.figure()\n",
        "plt.imshow(silhouettes[:, :, 0])\n",
        "plt.figure()\n",
        "plt.imshow(silhouettes[:, :, 10])"
      ],
      "execution_count": 140,
      "outputs": [
        {
          "output_type": "execute_result",
          "data": {
            "text/plain": [
              "<matplotlib.image.AxesImage at 0x7f3964a85f98>"
            ]
          },
          "metadata": {
            "tags": []
          },
          "execution_count": 140
        },
        {
          "output_type": "display_data",
          "data": {
            "image/png": "[encoded data removed]",
            "text/plain": [
              "<Figure size 432x288 with 1 Axes>"
            ]
          },
          "metadata": {
            "tags": [],
            "needs_background": "light"
          }
        },
        {
          "output_type": "display_data",
          "data": {
            "image/png": "[encoded data removed]",
            "text/plain": [
              "<Figure size 432x288 with 1 Axes>"
            ]
          },
          "metadata": {
            "tags": [],
            "needs_background": "light"
          }
        }
      ]
    },
    {
      "cell_type": "markdown",
      "metadata": {
        "id": "_dDLgho6ybZg"
      },
      "source": [
        "# Visual Hull"
      ]
    },
    {
      "cell_type": "code",
      "metadata": {
        "id": "kQGUo23nE7QE"
      },
      "source": [
        "# Define a voxel grid which has the 3D locations of each voxel which can then be projected onto each image\n",
        "def InitializeVoxels(xlim, ylim, zlim, voxel_size):\n",
        "  voxels_number = [1, 1, 1]\n",
        "  voxels_number[0] = np.abs(xlim[1]-xlim[0]) / voxel_size[0]\n",
        "  voxels_number[1] = np.abs(ylim[1]-ylim[0]) / voxel_size[1]\n",
        "  voxels_number[2] = np.abs(zlim[1]-zlim[0]) / voxel_size[2]\n",
        "  voxels_number_act = np.array(voxels_number).astype(int) + 1\n",
        "  total_number = np.prod(voxels_number_act)\n",
        "\n",
        "  voxel = np.ones((np.int(total_number), 4))\n",
        "\n",
        "  sx = xlim[0]\n",
        "  ex = xlim[1]\n",
        "  sy = ylim[0]\n",
        "  ey = ylim[1]\n",
        "  sz = zlim[0]\n",
        "  ez = zlim[1]\n",
        "\n",
        "  if(ex > sx):\n",
        "    x_step = voxel_size[0];\n",
        "  else:\n",
        "    x_step = -voxel_size[0];\n",
        "\n",
        "  if(ey > sy):\n",
        "    y_step = voxel_size[1];\n",
        "  else:\n",
        "    y_step = -voxel_size[1];\n",
        "\n",
        "  if(ez > sz):\n",
        "    z_step = voxel_size[2];\n",
        "  else:\n",
        "    z_step = -voxel_size[2];\n",
        "\n",
        "  voxel3Dx, voxel3Dy, voxel3Dz = np.meshgrid(np.linspace(sx, ex, voxels_number_act[0]), \n",
        "                                             np.linspace(sy, ey, voxels_number_act[1]),\n",
        "                                             np.linspace(sz, ez, voxels_number_act[2]))\n",
        "  \n",
        "  l = 0;\n",
        "  for z in np.linspace(sz, ez, voxels_number_act[2]):\n",
        "    for x in np.linspace(sx, ex, voxels_number_act[0]):\n",
        "      for y in np.linspace(sy, ey, voxels_number_act[1]):\n",
        "        voxel[l] = [x, y, z, 1] \n",
        "        l=l+1\n",
        "\n",
        "  return voxel, voxel3Dx, voxel3Dy, voxel3Dz, voxels_number"
      ],
      "execution_count": 303,
      "outputs": []
    },
    {
      "cell_type": "code",
      "metadata": {
        "id": "1CKFAlGKEltn"
      },
      "source": [
        "voxel_size = [0.001, 0.001, 0.001] # size of each voxel\n",
        "\n",
        "# The dimension limits\n",
        "xlim = [0.07, -0.04] # [-0.04, 0.07]\n",
        "ylim = [0.022, 0.132] # [0.04, 0.15]\n",
        "zlim = [0.07, -0.04] # [-0.04, 0.07]\n",
        "\n",
        "voxels, voxel3Dx, voxel3Dy, voxel3Dz, voxels_number = InitializeVoxels(xlim, ylim, zlim, voxel_size);"
      ],
      "execution_count": 374,
      "outputs": []
    },
    {
      "cell_type": "code",
      "metadata": {
        "id": "EseNdcDxzMIf",
        "outputId": "0167a728-242d-4477-b15d-e18afbd5b9eb",
        "colab": {
          "base_uri": "https://localhost:8080/"
        }
      },
      "source": [
        "print(voxels.shape)"
      ],
      "execution_count": 375,
      "outputs": [
        {
          "output_type": "stream",
          "text": [
            "(1367631, 4)\n"
          ],
          "name": "stdout"
        }
      ]
    },
    {
      "cell_type": "code",
      "metadata": {
        "id": "8F-kz8vO1g-m",
        "outputId": "27607e24-e8f0-40d3-f399-2d557000c44a",
        "colab": {
          "base_uri": "https://localhost:8080/"
        }
      },
      "source": [
        "print(voxels) # The first three values are the x-y-z-coordinates of the voxel, the fourth value is a dummy variable which we will use later on"
      ],
      "execution_count": 376,
      "outputs": [
        {
          "output_type": "stream",
          "text": [
            "[[ 0.07   0.022  0.07   1.   ]\n",
            " [ 0.07   0.023  0.07   1.   ]\n",
            " [ 0.07   0.024  0.07   1.   ]\n",
            " ...\n",
            " [-0.04   0.13  -0.04   1.   ]\n",
            " [-0.04   0.131 -0.04   1.   ]\n",
            " [-0.04   0.132 -0.04   1.   ]]\n"
          ],
          "name": "stdout"
        }
      ]
    },
    {
      "cell_type": "code",
      "metadata": {
        "id": "RAKgv-NY03Q5"
      },
      "source": [
        "object_points3D = np.copy(voxels).T\n",
        "voxels[:, 3] = 0 # making the fourth variable of each voxel 0\n",
        "\n",
        "proj = []\n",
        "\n",
        "for i in range(N):\n",
        "\n",
        "  # CAMERA PARAMETERS\n",
        "  M_ = M[i]\n",
        "\n",
        "  # PROJECTION TO THE IMAGE PLANE\n",
        "  points2D = np.matmul(M_, object_points3D)\n",
        "  points2D = np.floor(points2D / points2D[2, :]).astype(np.int32)\n",
        "  points2D[np.where(points2D < 0)] = 0; # check for negative image coordinates\n",
        "\n",
        "  img_size = (silhouettes).shape\n",
        "  ind1 = np.where(points2D[1, :] >= img_size[0]) # check for out-of-bounds (width) coordinate\n",
        "  points2D[:, ind1] = 0\n",
        "  ind1 = np.where(points2D[0, :] >= img_size[1]) # check for out-of-bounds (height) coordinate\n",
        "  points2D[:, ind1] = 0\n",
        "\n",
        "  # ACCUMULATE THE VALUE OF EACH VOXEL IN THE CURRENT IMAGE\n",
        "  voxels[:, 3] += silhouettes[:, :, i].T[points2D.T[:, 0], points2D.T[:, 1]]\n",
        "\n",
        "  proj.append(points2D)"
      ],
      "execution_count": 377,
      "outputs": []
    },
    {
      "cell_type": "code",
      "metadata": {
        "id": "EwaRDTtRJF1j",
        "outputId": "991bab52-1061-496b-f3e1-52903cf9312e",
        "colab": {
          "base_uri": "https://localhost:8080/"
        }
      },
      "source": [
        "print(voxels) # the fourth value is the number of image views (out of N total) which contain this voxel in the object mask"
      ],
      "execution_count": 378,
      "outputs": [
        {
          "output_type": "stream",
          "text": [
            "[[ 0.07   0.022  0.07   6.   ]\n",
            " [ 0.07   0.023  0.07   6.   ]\n",
            " [ 0.07   0.024  0.07   6.   ]\n",
            " ...\n",
            " [-0.04   0.13  -0.04   0.   ]\n",
            " [-0.04   0.131 -0.04   0.   ]\n",
            " [-0.04   0.132 -0.04   0.   ]]\n"
          ],
          "name": "stdout"
        }
      ]
    },
    {
      "cell_type": "code",
      "metadata": {
        "id": "qpfN7aeCQQqV"
      },
      "source": [
        "def ConvertVoxelList2Voxel3D(voxels_number, voxel_size, voxel):\n",
        "  sx = -(voxels_number[0] / 2) * voxel_size[0]\n",
        "  ex = voxels_number[0] / 2 * voxel_size[0]\n",
        "\n",
        "  sy = -(voxels_number[1] / 2) * voxel_size[1]\n",
        "  ey = voxels_number[1] / 2 * voxel_size[1]\n",
        "\n",
        "  sz = -(voxels_number[2] / 2) * voxel_size[2] # 0;\n",
        "  ez = voxels_number[2] / 2 * voxel_size[2] # voxels_number[2] * voxel_size[2]\n",
        "  voxels_number = np.array(voxels_number).astype(np.int32)\n",
        "  voxel3D = np.zeros((voxels_number[1] + 1, voxels_number[0] + 1, voxels_number[2] + 1));\n",
        "\n",
        "  l = 0\n",
        "  z1 = 0\n",
        "  for z in np.arange(sz, ez, voxel_size[2]):\n",
        "      x1 = 0\n",
        "      for x in np.arange(sx, ex, voxel_size[0]):\n",
        "          y1 = 0\n",
        "          for y in np.arange(sy, ey, voxel_size[1]):\n",
        "              voxel3D[y1, x1, z1] = voxel[l, 3]\n",
        "              l = l + 1\n",
        "              y1 = y1 + 1\n",
        "          x1 = x1 + 1\n",
        "      z1 = z1 + 1\n",
        "\n",
        "  return voxel3D"
      ],
      "execution_count": 379,
      "outputs": []
    },
    {
      "cell_type": "code",
      "metadata": {
        "id": "VpDTpqoiQQr0",
        "outputId": "f233727b-c350-45db-e649-4b47b647ff0a",
        "colab": {
          "base_uri": "https://localhost:8080/"
        }
      },
      "source": [
        "error_amount = 5\n",
        "maxv = np.max(voxels[:, 3])\n",
        "iso_value = maxv-np.round(((maxv)/100)*error_amount)-0.5\n",
        "print('max number of votes:' + str(maxv))\n",
        "print('threshold for marching cube:' + str(iso_value))\n",
        "\n",
        "voxel3D = ConvertVoxelList2Voxel3D(np.array(voxels_number), voxel_size, voxels)"
      ],
      "execution_count": 380,
      "outputs": [
        {
          "output_type": "stream",
          "text": [
            "max number of votes:48.0\n",
            "threshold for marching cube:45.5\n"
          ],
          "name": "stdout"
        }
      ]
    },
    {
      "cell_type": "code",
      "metadata": {
        "id": "eVW1ZTVi0rPx",
        "outputId": "56fae87f-81ba-4af3-c12a-ba8b06d7d76b",
        "colab": {
          "base_uri": "https://localhost:8080/"
        }
      },
      "source": [
        "# debug\n",
        "voxel3D[0, :, :] = maxv\n",
        "# voxel3D[-1, :, :] = maxv\n",
        "\n",
        "voxel3D[:, 0, :] = maxv\n",
        "# voxel3D[:, -1, :] = maxv\n",
        "\n",
        "voxel3D[:, :, 0] = maxv\n",
        "# voxel3D[:, :, -1] = maxv\n",
        "print(voxel3D)"
      ],
      "execution_count": 381,
      "outputs": [
        {
          "output_type": "stream",
          "text": [
            "[[[48. 48. 48. ... 48. 48. 48.]\n",
            "  [48. 48. 48. ... 48. 48. 48.]\n",
            "  [48. 48. 48. ... 48. 48. 48.]\n",
            "  ...\n",
            "  [48. 48. 48. ... 48. 48. 48.]\n",
            "  [48. 48. 48. ... 48. 48. 48.]\n",
            "  [48. 48. 48. ... 48. 48. 48.]]\n",
            "\n",
            " [[48. 48. 48. ... 48. 48. 48.]\n",
            "  [48.  6.  6. ...  7.  7.  7.]\n",
            "  [48.  6.  6. ...  7.  7.  7.]\n",
            "  ...\n",
            "  [48. 10. 10. ...  5.  5.  5.]\n",
            "  [48. 10.  9. ...  4.  5.  5.]\n",
            "  [48. 10.  9. ...  4.  4.  4.]]\n",
            "\n",
            " [[48. 48. 48. ... 48. 48. 48.]\n",
            "  [48.  6.  6. ...  7.  7.  7.]\n",
            "  [48.  6.  6. ...  7.  7.  7.]\n",
            "  ...\n",
            "  [48. 10. 10. ...  5.  5.  5.]\n",
            "  [48. 10. 10. ...  4.  4.  4.]\n",
            "  [48. 10.  9. ...  4.  4.  4.]]\n",
            "\n",
            " ...\n",
            "\n",
            " [[48. 48. 48. ... 48. 48. 48.]\n",
            "  [48.  0.  0. ...  0.  0.  0.]\n",
            "  [48.  0.  0. ...  0.  0.  0.]\n",
            "  ...\n",
            "  [48.  0.  0. ...  0.  0.  0.]\n",
            "  [48.  0.  0. ...  0.  0.  0.]\n",
            "  [48.  0.  0. ...  0.  0.  0.]]\n",
            "\n",
            " [[48. 48. 48. ... 48. 48. 48.]\n",
            "  [48.  0.  0. ...  0.  0.  0.]\n",
            "  [48.  0.  0. ...  0.  0.  0.]\n",
            "  ...\n",
            "  [48.  0.  0. ...  0.  0.  0.]\n",
            "  [48.  0.  0. ...  0.  0.  0.]\n",
            "  [48.  0.  0. ...  0.  0.  0.]]\n",
            "\n",
            " [[48. 48. 48. ... 48. 48. 48.]\n",
            "  [48.  0.  0. ...  0.  0.  0.]\n",
            "  [48.  0.  0. ...  0.  0.  0.]\n",
            "  ...\n",
            "  [48.  0.  0. ...  0.  0.  0.]\n",
            "  [48.  0.  0. ...  0.  0.  0.]\n",
            "  [48.  0.  0. ...  0.  0.  0.]]]\n"
          ],
          "name": "stdout"
        }
      ]
    },
    {
      "cell_type": "markdown",
      "metadata": {
        "id": "d7WPKMKOL8vc"
      },
      "source": [
        "# Marching Cubes"
      ]
    },
    {
      "cell_type": "code",
      "metadata": {
        "id": "juywEVQpL-nt"
      },
      "source": [
        "# !pip install --upgrade PyMCubes\n",
        "# !pip install pycollada"
      ],
      "execution_count": 382,
      "outputs": []
    },
    {
      "cell_type": "code",
      "metadata": {
        "id": "osgjmy7ML8R_"
      },
      "source": [
        "import numpy as np\n",
        "import mcubes\n",
        "\n",
        "# Extract the 0-isosurface\n",
        "vertices, triangles = mcubes.marching_cubes(voxel3D, iso_value)\n",
        "\n",
        "# Export the result to sphere.dae\n",
        "mcubes.export_mesh(vertices, triangles, \"DinoR_21.dae\", \"DinoR_21_\")"
      ],
      "execution_count": 383,
      "outputs": []
    },
    {
      "cell_type": "code",
      "metadata": {
        "id": "lRCzfdqdfJcQ"
      },
      "source": [
        ""
      ],
      "execution_count": 372,
      "outputs": []
    }
  ]
}